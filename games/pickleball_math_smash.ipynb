{
 "cells": [
  {
   "cell_type": "code",
   "execution_count": 1,
   "metadata": {
    "colab": {
     "base_uri": "https://localhost:8080/"
    },
    "id": "2BKEVgnCjZe6",
    "outputId": "66e569c6-3188-4f73-bde5-6831de54a04e"
   },
   "outputs": [
    {
     "name": "stdout",
     "output_type": "stream",
     "text": [
      "pygame 2.6.0 (SDL 2.28.4, Python 3.10.9)\n",
      "Hello from the pygame community. https://www.pygame.org/contribute.html\n"
     ]
    }
   ],
   "source": [
    "import pygame\n",
    "import random\n",
    "import time"
   ]
  },
  {
   "cell_type": "code",
   "execution_count": 2,
   "metadata": {
    "id": "TTRWMx_HjaVF"
   },
   "outputs": [],
   "source": [
    "# Initialize pygame\n",
    "pygame.init()\n",
    "\n",
    "# Set up the game window\n",
    "WIDTH, HEIGHT = 600, 400\n",
    "screen = pygame.display.set_mode((WIDTH, HEIGHT))\n",
    "pygame.display.set_caption('Pickleball Math Smash')\n",
    "\n",
    "# Define colors\n",
    "WHITE = (255, 255, 255)\n",
    "BLACK = (0, 0, 0)\n",
    "\n",
    "FIREWORK_COLORS = [(255, 0, 0), (0, 255, 0), (0, 0, 255), (255, 255, 0), (255, 0, 255)]\n",
    "\n",
    "# Paddle settings\n",
    "paddle_width = 100\n",
    "paddle_height = 10\n",
    "paddle_x = WIDTH // 2 - paddle_width // 2\n",
    "paddle_y = HEIGHT - 20\n",
    "paddle_speed = 10\n",
    "\n",
    "# Ball settings\n",
    "ball_radius = 10\n",
    "ball_x = WIDTH // 2\n",
    "ball_y = HEIGHT // 2\n",
    "ball_speed_x = 5 * random.choice([-1, 1])\n",
    "ball_speed_y = 5 * random.choice([-1, 1])"
   ]
  },
  {
   "cell_type": "code",
   "execution_count": 3,
   "metadata": {
    "id": "X1Dzg5QOj_pu"
   },
   "outputs": [],
   "source": [
    "# Scoring system\n",
    "player_score = 0\n",
    "computer_score = 0\n",
    "player_serving = False\n",
    "game_over = False\n",
    "\n",
    "# Function to update the score and serve logic\n",
    "def handle_scoring(correct):\n",
    "    global player_score, computer_score, player_serving\n",
    "\n",
    "    if player_serving:\n",
    "        if correct:\n",
    "            player_score += 1\n",
    "        else:\n",
    "            player_serving = False  # Computer gets the serve\n",
    "    else:\n",
    "        if correct:\n",
    "            player_serving = True  # Player wins back the serve\n",
    "        else:\n",
    "            computer_score += 1\n",
    "\n",
    "    check_game_end()"
   ]
  },
  {
   "cell_type": "code",
   "execution_count": 4,
   "metadata": {},
   "outputs": [],
   "source": [
    "# Fireworks settings\n",
    "fireworks_active = False\n",
    "firework_timer = 0"
   ]
  },
  {
   "cell_type": "code",
   "execution_count": 5,
   "metadata": {
    "id": "D2HDlUlKkLqH"
   },
   "outputs": [],
   "source": [
    "# Function to handle the coin flip\n",
    "def coin_flip():\n",
    "    return random.choice(['player', 'computer'])\n",
    "\n",
    "# Function to check if someone has won the game\n",
    "def check_game_end():\n",
    "    global game_over, fireworks_active, firework_timer\n",
    "    if (player_score >= 11 or computer_score >= 11) and abs(player_score - computer_score) >= 2:\n",
    "        game_over = True\n",
    "        fireworks_active = True\n",
    "        firework_timer = time.time()  # Start the fireworks timer\n",
    "        return True\n",
    "    return False"
   ]
  },
  {
   "cell_type": "code",
   "execution_count": 6,
   "metadata": {
    "id": "yF8sRkSfjaXd"
   },
   "outputs": [],
   "source": [
    "# Math question settings\n",
    "current_question = \"\"\n",
    "current_answer = \"\"\n",
    "user_answer = \"\"\n",
    "correct = False\n",
    "time_limit = 10  # 20 seconds per question\n",
    "\n",
    "# Function to generate a random math problem with multiple choice answers\n",
    "def generate_math_problem():\n",
    "    num1 = random.randint(1, 100)\n",
    "    num2 = random.randint(1, 100)\n",
    "\n",
    "    operator = random.choice(['+', '-', '%'])\n",
    "\n",
    "    if operator == '+':\n",
    "        question = f\"{num1} + {num2}\"\n",
    "        correct_answer = num1 + num2\n",
    "    elif operator == '-':\n",
    "        question = f\"{num1} - {num2}\"\n",
    "        correct_answer = num1 - num2\n",
    "    elif operator == '%':\n",
    "        question = f\"What is {num1}% of {num2}?\"\n",
    "        correct_answer = (num1 * num2) // 100\n",
    "\n",
    "    # Generate two incorrect answers\n",
    "    wrong_answer1 = correct_answer + random.randint(-10, 10)\n",
    "    wrong_answer2 = correct_answer + random.randint(-10, 10)\n",
    "\n",
    "    # Ensure wrong answers are distinct and not equal to the correct answer\n",
    "    while wrong_answer1 == correct_answer:\n",
    "        wrong_answer1 = correct_answer + random.randint(-10, 10)\n",
    "    while wrong_answer2 == correct_answer or wrong_answer2 == wrong_answer1:\n",
    "        wrong_answer2 = correct_answer + random.randint(-10, 10)\n",
    "\n",
    "    # Create a list of answers and shuffle them\n",
    "    choices = [correct_answer, wrong_answer1, wrong_answer2]\n",
    "    random.shuffle(choices)\n",
    "\n",
    "    return question, correct_answer, choices"
   ]
  },
  {
   "cell_type": "code",
   "execution_count": 7,
   "metadata": {
    "id": "Dw1srHtNklkQ"
   },
   "outputs": [],
   "source": [
    "# Coin flip to determine who serves first\n",
    "first_serve = coin_flip()\n",
    "if first_serve == 'player':\n",
    "    player_serving = True"
   ]
  },
  {
   "cell_type": "code",
   "execution_count": 8,
   "metadata": {
    "colab": {
     "base_uri": "https://localhost:8080/",
     "height": 211
    },
    "id": "jiGC38HZjaZ8",
    "outputId": "de967497-fc6c-4d5b-d1c7-66dd011a84dc"
   },
   "outputs": [],
   "source": [
    "# Start the game loop\n",
    "running = True\n",
    "current_question, correct_answer, choices = generate_math_problem()\n",
    "start_time = time.time()\n",
    "\n",
    "# Ball movement flag to simulate movement\n",
    "ball_moving = True\n",
    "\n",
    "while running:\n",
    "    screen.fill(BLACK)\n",
    "\n",
    "    # Event handling\n",
    "    for event in pygame.event.get():\n",
    "        if event.type == pygame.QUIT:\n",
    "            running = False\n",
    "        if event.type == pygame.KEYDOWN and not game_over:\n",
    "            if event.key in [pygame.K_1, pygame.K_2, pygame.K_3]:  # Player picks an option\n",
    "                user_choice = choices[int(event.unicode) - 1]  # Convert keypress (1, 2, 3) to index\n",
    "                correct = (user_choice == correct_answer)\n",
    "                \n",
    "                # Handle scoring based on correctness and current serve\n",
    "                handle_scoring(correct)\n",
    "\n",
    "                # Generate new question after answer submission\n",
    "                current_question, correct_answer, choices = generate_math_problem()\n",
    "                start_time = time.time()\n",
    "\n",
    "    # Check if time limit has passed\n",
    "    elapsed_time = time.time() - start_time\n",
    "    if elapsed_time > time_limit:\n",
    "        # Treat as incorrect answer if time runs out\n",
    "        handle_scoring(False)\n",
    "        current_question, correct_answer, choices = generate_math_problem()\n",
    "        start_time = time.time()\n",
    "\n",
    "    # Ball movement logic\n",
    "    if ball_moving:\n",
    "        ball_x += ball_speed_x\n",
    "        ball_y += ball_speed_y\n",
    "    \n",
    "        # Ball collision with walls\n",
    "        if ball_x <= ball_radius or ball_x >= WIDTH - ball_radius:\n",
    "            ball_speed_x *= -1\n",
    "        if ball_y <= ball_radius or ball_y >= HEIGHT - ball_radius:\n",
    "            ball_speed_y *= -1\n",
    "\n",
    "    # Paddle movement\n",
    "    keys = pygame.key.get_pressed()\n",
    "    if keys[pygame.K_LEFT] and paddle_x > 0:\n",
    "        paddle_x -= paddle_speed\n",
    "    if keys[pygame.K_RIGHT] and paddle_x < WIDTH - paddle_width:\n",
    "        paddle_x += paddle_speed\n",
    "\n",
    "    # Draw the paddle\n",
    "    pygame.draw.rect(screen, WHITE, (paddle_x, paddle_y, paddle_width, paddle_height))\n",
    "\n",
    "    # Draw the ball\n",
    "    pygame.draw.circle(screen, WHITE, (ball_x, ball_y), ball_radius)\n",
    "\n",
    "    # Display the math question and multiple-choice answers\n",
    "    font = pygame.font.Font(None, 36)\n",
    "    question_text = font.render(f\"Question: {current_question}\", True, WHITE)\n",
    "    screen.blit(question_text, (10, 10))\n",
    "    \n",
    "    # Display the answer choices (1, 2, 3)\n",
    "    choice_text_1 = font.render(f\"1: {choices[0]}\", True, WHITE)\n",
    "    screen.blit(choice_text_1, (10, 50))\n",
    "    \n",
    "    choice_text_2 = font.render(f\"2: {choices[1]}\", True, WHITE)\n",
    "    screen.blit(choice_text_2, (10, 90))\n",
    "    \n",
    "    choice_text_3 = font.render(f\"3: {choices[2]}\", True, WHITE)\n",
    "    screen.blit(choice_text_3, (10, 130))\n",
    "\n",
    "    # Display the score\n",
    "    score_text = font.render(f\"Drishti: {player_score}  Computer: {computer_score}\", True, WHITE)\n",
    "    screen.blit(score_text, (10, 170))\n",
    "\n",
    "    # Display the serving status\n",
    "    serve_text = font.render(f\"{'Drishti' if player_serving else 'Computer'} is serving\", True, WHITE)\n",
    "    screen.blit(serve_text, (10, 210))\n",
    "    \n",
    "    # Fireworks after game over\n",
    "    if fireworks_active:\n",
    "        # Keep fireworks for 10 seconds after the game ends\n",
    "        if time.time() - firework_timer < 10:\n",
    "            for _ in range(5):  # Generate 5 random fireworks at a time\n",
    "                x = random.randint(0, WIDTH)\n",
    "                y = random.randint(0, HEIGHT)\n",
    "                color = random.choice(FIREWORK_COLORS)\n",
    "                radius = random.randint(10, 40)\n",
    "                pygame.draw.circle(screen, color, (x, y), radius)\n",
    "        else:\n",
    "            fireworks_active = False  # Stop fireworks after 10 seconds\n",
    "\n",
    "    # Check if the game is over\n",
    "    if game_over:\n",
    "        winner = \"Drishti\" if player_score > computer_score else \"Computer\"\n",
    "        game_over_text = font.render(f\"Game Over! {winner} Wins!\", True, WHITE)\n",
    "        screen.blit(game_over_text, (10, 250))\n",
    "\n",
    "    # Update display\n",
    "    pygame.display.flip()\n",
    "\n",
    "    # Frame rate\n",
    "    pygame.time.Clock().tick(60)\n",
    "\n",
    "pygame.quit()"
   ]
  },
  {
   "cell_type": "code",
   "execution_count": null,
   "metadata": {
    "id": "D3WMo3pLjack"
   },
   "outputs": [],
   "source": []
  },
  {
   "cell_type": "code",
   "execution_count": null,
   "metadata": {},
   "outputs": [],
   "source": []
  }
 ],
 "metadata": {
  "colab": {
   "provenance": []
  },
  "kernelspec": {
   "display_name": "Python 3 (ipykernel)",
   "language": "python",
   "name": "python3"
  },
  "language_info": {
   "codemirror_mode": {
    "name": "ipython",
    "version": 3
   },
   "file_extension": ".py",
   "mimetype": "text/x-python",
   "name": "python",
   "nbconvert_exporter": "python",
   "pygments_lexer": "ipython3",
   "version": "3.10.9"
  }
 },
 "nbformat": 4,
 "nbformat_minor": 1
}
